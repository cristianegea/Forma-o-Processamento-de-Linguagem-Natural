{
 "cells": [
  {
   "cell_type": "code",
   "execution_count": 0,
   "metadata": {
    "application/vnd.databricks.v1+cell": {
     "cellMetadata": {
      "byteLimit": 2048000,
      "rowLimit": 10000
     },
     "inputWidgets": {},
     "nuid": "5f127909-9fed-4f4d-836a-e716a75bc674",
     "showTitle": false,
     "title": ""
    }
   },
   "outputs": [
    {
     "output_type": "stream",
     "name": "stdout",
     "output_type": "stream",
     "text": [
      "Requirement already satisfied: textblob in /local_disk0/.ephemeral_nfs/envs/pythonEnv-837a2900-86ce-495f-8d22-6eb9951f18ab/lib/python3.9/site-packages (0.17.1)\r\nRequirement already satisfied: nltk>=3.1 in /databricks/python3/lib/python3.9/site-packages (from textblob) (3.6.5)\r\nRequirement already satisfied: tqdm in /databricks/python3/lib/python3.9/site-packages (from nltk>=3.1->textblob) (4.62.3)\r\nRequirement already satisfied: click in /databricks/python3/lib/python3.9/site-packages (from nltk>=3.1->textblob) (8.0.3)\r\nRequirement already satisfied: regex>=2021.8.3 in /databricks/python3/lib/python3.9/site-packages (from nltk>=3.1->textblob) (2021.8.3)\r\nRequirement already satisfied: joblib in /databricks/python3/lib/python3.9/site-packages (from nltk>=3.1->textblob) (1.0.1)\r\n\u001B[33mWARNING: You are using pip version 21.2.4; however, version 23.2.1 is available.\r\nYou should consider upgrading via the '/local_disk0/.ephemeral_nfs/envs/pythonEnv-837a2900-86ce-495f-8d22-6eb9951f18ab/bin/python -m pip install --upgrade pip' command.\u001B[0m\r\n"
     ]
    }
   ],
   "source": [
    "!pip install textblob"
   ]
  },
  {
   "cell_type": "code",
   "execution_count": 0,
   "metadata": {
    "application/vnd.databricks.v1+cell": {
     "cellMetadata": {
      "byteLimit": 2048000,
      "rowLimit": 10000
     },
     "inputWidgets": {},
     "nuid": "9ea31d3f-31f4-469d-88c7-a6d9e10d58d4",
     "showTitle": false,
     "title": ""
    }
   },
   "outputs": [
    {
     "output_type": "stream",
     "name": "stdout",
     "output_type": "stream",
     "text": [
      "[nltk_data] Downloading package vader_lexicon to /root/nltk_data...\n[nltk_data]   Package vader_lexicon is already up-to-date!\n"
     ]
    }
   ],
   "source": [
    "# Bibliotecas\n",
    "import nltk\n",
    "nltk.download(\"vader_lexicon\")      # Só funciona com palavras em Inglês\n",
    "from nltk.sentiment.vader import SentimentIntensityAnalyzer\n",
    "from textblob import TextBlob"
   ]
  },
  {
   "cell_type": "code",
   "execution_count": 0,
   "metadata": {
    "application/vnd.databricks.v1+cell": {
     "cellMetadata": {
      "byteLimit": 2048000,
      "rowLimit": 10000
     },
     "inputWidgets": {},
     "nuid": "31394236-83e4-48c8-b373-a45938602c77",
     "showTitle": false,
     "title": ""
    }
   },
   "outputs": [],
   "source": [
    "# Criação da instância para análise de sentimentos\n",
    "mas = SentimentIntensityAnalyzer()"
   ]
  },
  {
   "cell_type": "code",
   "execution_count": 0,
   "metadata": {
    "application/vnd.databricks.v1+cell": {
     "cellMetadata": {
      "byteLimit": 2048000,
      "rowLimit": 10000
     },
     "inputWidgets": {},
     "nuid": "d9388127-03eb-4997-aed4-97c64dd5f34c",
     "showTitle": false,
     "title": ""
    }
   },
   "outputs": [
    {
     "output_type": "stream",
     "name": "stdout",
     "output_type": "stream",
     "text": [
      "{'neg': 0.726, 'neu': 0.274, 'pos': 0.0, 'compound': -0.7437}\n"
     ]
    }
   ],
   "source": [
    "# Análise de sentimento de uma frase\n",
    "a = 'I HATE this movie!!!'\n",
    "x = mas.polarity_scores(a)\n",
    "print(x)"
   ]
  },
  {
   "cell_type": "code",
   "execution_count": 0,
   "metadata": {
    "application/vnd.databricks.v1+cell": {
     "cellMetadata": {
      "byteLimit": 2048000,
      "rowLimit": 10000
     },
     "inputWidgets": {},
     "nuid": "a61b5a95-663d-45bf-b470-33f9eee951d9",
     "showTitle": false,
     "title": ""
    }
   },
   "outputs": [
    {
     "output_type": "stream",
     "name": "stdout",
     "output_type": "stream",
     "text": [
      "{'neg': 0.689, 'neu': 0.311, 'pos': 0.0, 'compound': -0.6633}\n"
     ]
    }
   ],
   "source": [
    "# Análise de sentimento de uma frase\n",
    "a = 'I HATE this movie'\n",
    "x = mas.polarity_scores(a)\n",
    "print(x)"
   ]
  },
  {
   "cell_type": "code",
   "execution_count": 0,
   "metadata": {
    "application/vnd.databricks.v1+cell": {
     "cellMetadata": {
      "byteLimit": 2048000,
      "rowLimit": 10000
     },
     "inputWidgets": {},
     "nuid": "dc667077-03c8-42de-a87e-14df652e1c1c",
     "showTitle": false,
     "title": ""
    }
   },
   "outputs": [
    {
     "output_type": "stream",
     "name": "stdout",
     "output_type": "stream",
     "text": [
      "{'neg': 0.649, 'neu': 0.351, 'pos': 0.0, 'compound': -0.5719}\n"
     ]
    }
   ],
   "source": [
    "# Análise de sentimento de uma frase\n",
    "a = 'I hate this movie'\n",
    "x = mas.polarity_scores(a)\n",
    "print(x)"
   ]
  },
  {
   "cell_type": "code",
   "execution_count": 0,
   "metadata": {
    "application/vnd.databricks.v1+cell": {
     "cellMetadata": {
      "byteLimit": 2048000,
      "rowLimit": 10000
     },
     "inputWidgets": {},
     "nuid": "2ab5bee1-7dcc-451f-a558-f1774203f381",
     "showTitle": false,
     "title": ""
    }
   },
   "outputs": [
    {
     "output_type": "stream",
     "name": "stdout",
     "output_type": "stream",
     "text": [
      "{'neg': 0.181, 'neu': 0.385, 'pos': 0.434, 'compound': 0.6476}\n"
     ]
    }
   ],
   "source": [
    "# Análise de sentimento de uma frase\n",
    "a = 'I hate this movie! But I Loved the girl'\n",
    "x = mas.polarity_scores(a)\n",
    "print(x)"
   ]
  },
  {
   "cell_type": "code",
   "execution_count": 0,
   "metadata": {
    "application/vnd.databricks.v1+cell": {
     "cellMetadata": {
      "byteLimit": 2048000,
      "rowLimit": 10000
     },
     "inputWidgets": {},
     "nuid": "50f97971-525f-48b4-8910-a85609665b96",
     "showTitle": false,
     "title": ""
    }
   },
   "outputs": [
    {
     "output_type": "stream",
     "name": "stdout",
     "output_type": "stream",
     "text": [
      "{'neg': 0.0, 'neu': 1.0, 'pos': 0.0, 'compound': 0.0}\n"
     ]
    }
   ],
   "source": [
    "# Análise de sentimento de uma frase\n",
    "a = 'This plot is very old'\n",
    "x = mas.polarity_scores(a)\n",
    "print(x)"
   ]
  },
  {
   "cell_type": "code",
   "execution_count": 0,
   "metadata": {
    "application/vnd.databricks.v1+cell": {
     "cellMetadata": {
      "byteLimit": 2048000,
      "rowLimit": 10000
     },
     "inputWidgets": {},
     "nuid": "e5ef2e04-4592-4d45-be44-b6e373250603",
     "showTitle": false,
     "title": ""
    }
   },
   "outputs": [
    {
     "output_type": "stream",
     "name": "stdout",
     "output_type": "stream",
     "text": [
      "{'neg': 0.0, 'neu': 0.0, 'pos': 1.0, 'compound': 0.4588}\n"
     ]
    }
   ],
   "source": [
    "# Análise de sentimento de uma frase\n",
    "a = ':)'\n",
    "x = mas.polarity_scores(a)\n",
    "print(x)"
   ]
  },
  {
   "cell_type": "code",
   "execution_count": 0,
   "metadata": {
    "application/vnd.databricks.v1+cell": {
     "cellMetadata": {
      "byteLimit": 2048000,
      "rowLimit": 10000
     },
     "inputWidgets": {},
     "nuid": "5ac132d9-0aae-4b60-905d-19206603b3eb",
     "showTitle": false,
     "title": ""
    }
   },
   "outputs": [
    {
     "output_type": "stream",
     "name": "stdout",
     "output_type": "stream",
     "text": [
      "{'neg': 1.0, 'neu': 0.0, 'pos': 0.0, 'compound': -0.4404}\n"
     ]
    }
   ],
   "source": [
    "# Análise de sentimento de uma frase\n",
    "a = ':('\n",
    "x = mas.polarity_scores(a)\n",
    "print(x)"
   ]
  },
  {
   "cell_type": "code",
   "execution_count": 0,
   "metadata": {
    "application/vnd.databricks.v1+cell": {
     "cellMetadata": {
      "byteLimit": 2048000,
      "rowLimit": 10000
     },
     "inputWidgets": {},
     "nuid": "788375c7-6dcd-481a-a89c-f8be4d88d9f6",
     "showTitle": false,
     "title": ""
    }
   },
   "outputs": [
    {
     "output_type": "stream",
     "name": "stdout",
     "output_type": "stream",
     "text": [
      "{'neg': 0.0, 'neu': 0.0, 'pos': 1.0, 'compound': 0.34}\n"
     ]
    }
   ],
   "source": [
    "# Análise de sentimento de uma frase\n",
    "a = ':p'\n",
    "x = mas.polarity_scores(a)\n",
    "print(x)"
   ]
  },
  {
   "cell_type": "code",
   "execution_count": 0,
   "metadata": {
    "application/vnd.databricks.v1+cell": {
     "cellMetadata": {
      "byteLimit": 2048000,
      "rowLimit": 10000
     },
     "inputWidgets": {},
     "nuid": "8571f797-832e-4747-8938-19623a717093",
     "showTitle": false,
     "title": ""
    }
   },
   "outputs": [
    {
     "output_type": "stream",
     "name": "stdout",
     "output_type": "stream",
     "text": [
      "Sentiment(polarity=1.0, subjectivity=1.0)\n"
     ]
    }
   ],
   "source": [
    "# Análise da polaridade e da subjetividade da frase\n",
    "teste = TextBlob(\"The movie was awesome\")\n",
    "print(teste.sentiment)"
   ]
  },
  {
   "cell_type": "code",
   "execution_count": 0,
   "metadata": {
    "application/vnd.databricks.v1+cell": {
     "cellMetadata": {
      "byteLimit": 2048000,
      "rowLimit": 10000
     },
     "inputWidgets": {},
     "nuid": "b4c1b54f-a63b-4ea1-a4b8-d1546aa98728",
     "showTitle": false,
     "title": ""
    }
   },
   "outputs": [
    {
     "output_type": "stream",
     "name": "stdout",
     "output_type": "stream",
     "text": [
      "Sentiment(polarity=0.5, subjectivity=0.6)\n"
     ]
    }
   ],
   "source": [
    "# Análise da polaridade e da subjetividade da frase\n",
    "teste = TextBlob(\"I love NY\")\n",
    "print(teste.sentiment)"
   ]
  }
 ],
 "metadata": {
  "application/vnd.databricks.v1+notebook": {
   "dashboards": [],
   "language": "python",
   "notebookMetadata": {
    "pythonIndentUnit": 2
   },
   "notebookName": "Análise de sentimentos usando Vader",
   "widgets": {}
  }
 },
 "nbformat": 4,
 "nbformat_minor": 0
}
